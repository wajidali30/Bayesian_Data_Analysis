{
 "cells": [
  {
   "cell_type": "markdown",
   "id": "e57345a4-5fd7-4de2-89be-fb71913794fe",
   "metadata": {},
   "source": [
    "# Faster Bayesian Computation\n",
    "### They require that the liklihood that the generative model will generate any given data be calculated\n",
    "### The explore the parameter space in  a smarter way - rather than just sampling from the prior, the explore the parameter space region that has higher probability\n",
    "### Samples will be the same as apprximate Bayesian computation\n",
    "## Markov Chain Monte Carlo\n",
    "### A class of algorithms that sample from the probability distribution by walking around th eparameter space.\n",
    "#### Metropolis - Hastings \n",
    "#### Gibbs sampling\n",
    "#### hit-n-Run, the T-walk, particle monte carlo etc\n",
    "## Hamiltonian Monte Carlo\n",
    "#### is an efficient MCMC algorithm that scales but that is difficult to set up ubless we use\n",
    "## Stan\n",
    "### define model and Stan takes care of fitting it effieciently by compiling it down to C++ and fit it using Hamiltonian Monte Carlo\n",
    "### tailor made for defining generative models"
   ]
  },
  {
   "cell_type": "markdown",
   "id": "99febc9b-3dfa-4941-8992-bb5df1aab5f1",
   "metadata": {},
   "source": [
    " ### Question 1: Build a Bayesian model in Stan that answers the question: What is the probability that method B is better than method A?"
   ]
  },
  {
   "cell_type": "code",
   "execution_count": 1,
   "id": "583ab653-f8de-415f-a387-26c953a7e9f5",
   "metadata": {},
   "outputs": [
    {
     "ename": "ModuleNotFoundError",
     "evalue": "No module named 'pystan'",
     "output_type": "error",
     "traceback": [
      "\u001b[1;31m---------------------------------------------------------------------------\u001b[0m",
      "\u001b[1;31mModuleNotFoundError\u001b[0m                       Traceback (most recent call last)",
      "Cell \u001b[1;32mIn[1], line 2\u001b[0m\n\u001b[0;32m      1\u001b[0m \u001b[38;5;66;03m# Import libraries\u001b[39;00m\n\u001b[1;32m----> 2\u001b[0m \u001b[38;5;28;01mimport\u001b[39;00m \u001b[38;5;21;01mpystan\u001b[39;00m \n\u001b[0;32m      3\u001b[0m \u001b[38;5;28;01mimport\u001b[39;00m \u001b[38;5;21;01mpandas\u001b[39;00m \u001b[38;5;28;01mas\u001b[39;00m \u001b[38;5;21;01mpd\u001b[39;00m\n\u001b[0;32m      4\u001b[0m \u001b[38;5;28;01mimport\u001b[39;00m \u001b[38;5;21;01mnumpy\u001b[39;00m \u001b[38;5;28;01mas\u001b[39;00m \u001b[38;5;21;01mnp\u001b[39;00m\n",
      "\u001b[1;31mModuleNotFoundError\u001b[0m: No module named 'pystan'"
     ]
    }
   ],
   "source": [
    "# Import libraries\n",
    "import pystan \n",
    "import pandas as pd\n",
    "import numpy as np\n",
    "from scipy.stats import beta\n",
    "import matplotlib.pyplot as plt\n",
    "\n",
    "model_string = \"\"\"\n",
    "# data that is going to be passed to the model\n",
    "data {\n",
    "    int n;\n",
    "    int s;\n",
    "}\n",
    "\n",
    "# unknowns - parameters\n",
    "parameters {\n",
    "    real<lower=0, upper=1. rtae;\n",
    "}\n",
    "\n",
    "# The generative model\n",
    "model {\n",
    "    rate ~ uniform(0,1);\n",
    "    s~ binomial(n, rate);\n",
    "}\n",
    "# calculating secondary quantities from the parameters\n",
    "\n",
    "generated quantities {\n",
    "    real rate_squared;\n",
    "    rate_squared <- rate^2;\n",
    "}\n",
    "\"\"\"\n",
    "\n",
    "data_list = dict(n=16, s=6)\n",
    "\n",
    "# compiling and producing posterior samples from the model\n",
    "stan_samples = pystan.stan(model_code = model_string, data = data_list)\n",
    "\n",
    "# plotting and summerising the posterior dist\n",
    "\n",
    "print(stan_samples)\n",
    "print(stand_samples.plot())"
   ]
  },
  {
   "cell_type": "code",
   "execution_count": null,
   "id": "8834f0f8-b769-4eb1-9abd-333fd481817e",
   "metadata": {},
   "outputs": [],
   "source": []
  },
  {
   "cell_type": "code",
   "execution_count": null,
   "id": "8e774ff5-359e-44f5-ae39-4de6079a057a",
   "metadata": {},
   "outputs": [],
   "source": []
  }
 ],
 "metadata": {
  "kernelspec": {
   "display_name": "Python 3 (ipykernel)",
   "language": "python",
   "name": "python3"
  },
  "language_info": {
   "codemirror_mode": {
    "name": "ipython",
    "version": 3
   },
   "file_extension": ".py",
   "mimetype": "text/x-python",
   "name": "python",
   "nbconvert_exporter": "python",
   "pygments_lexer": "ipython3",
   "version": "3.12.5"
  }
 },
 "nbformat": 4,
 "nbformat_minor": 5
}
